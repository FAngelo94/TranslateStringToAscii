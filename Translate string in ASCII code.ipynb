{
 "cells": [
  {
   "cell_type": "code",
   "execution_count": 20,
   "metadata": {},
   "outputs": [],
   "source": [
    "def translateStringToAscii(name):\n",
    "    ret = \"\"\n",
    "    i = 0\n",
    "    for i in range(len(name)):\n",
    "        asc   = ord(name[i])\n",
    "        value = str(bin(asc))\n",
    "        value = value[2:len(value)]\n",
    "        for j in range(8-len(value)):\n",
    "            value = \"0\" + value\n",
    "        ret += \" \" + value\n",
    "        i += 1\n",
    "    print(i)\n",
    "    return ret"
   ]
  },
  {
   "cell_type": "code",
   "execution_count": 21,
   "metadata": {},
   "outputs": [
    {
     "name": "stdout",
     "output_type": "stream",
     "text": [
      "117\n"
     ]
    },
    {
     "data": {
      "text/plain": [
       "' 01100001 01101110 01100111 01100101 01101100 01101111 00100000 01100110 01100001 01101100 01100011 01101001 00101100 00100000 01001101 01100001 01110011 01110100 01100101 01110010 00100000 01101001 01101110 00100000 01000011 01101111 01101101 01110000 01110101 01110100 01100101 01110010 00100000 01010011 01100011 01101001 01100101 01101110 01100011 01100101 00101100 00100000 00101011 00110011 00111001 00110011 00110100 00110111 00110011 00111001 00110010 00110111 00110101 00110111 00111001 00101100 00100000 01100001 00101110 01100110 01100001 01101100 01100011 01101001 01000000 01101100 01101001 01110110 01100101 00101110 01101001 01110100 00101100 00100000 01101000 01110100 01110100 01110000 00111010 00101111 00101111 01110111 01110111 01110111 00101110 01100011 01111001 01100010 01100101 01110010 01110000 01101001 01101100 01101100 01110011 00101110 01101110 01100101 01110100 00101111 01000110 01100001 01101100 01100011 01101001 00101111 01000011 01110101 01110010 01110010 01101001 01100011 01110101 01101100 01110101 01101101 00101111'"
      ]
     },
     "execution_count": 21,
     "metadata": {},
     "output_type": "execute_result"
    }
   ],
   "source": [
    "translateStringToAscii(\"angelo falci, Master in Computer Science, +393473927579, a.falci@live.it, http://www.cyberpills.net/Falci/Curriculum/\")"
   ]
  },
  {
   "cell_type": "code",
   "execution_count": 12,
   "metadata": {},
   "outputs": [
    {
     "name": "stdout",
     "output_type": "stream",
     "text": [
      "01100110\n",
      "01100001\n",
      "01101100\n",
      "01100011\n",
      "01101001\n"
     ]
    }
   ],
   "source": [
    "translateStringToAscii(\"falci\")"
   ]
  },
  {
   "cell_type": "code",
   "execution_count": 22,
   "metadata": {},
   "outputs": [
    {
     "data": {
      "text/plain": [
       "117"
      ]
     },
     "execution_count": 22,
     "metadata": {},
     "output_type": "execute_result"
    }
   ],
   "source": [
    "len(\"angelo falci, Master in Computer Science, +393473927579, a.falci@live.it, http://www.cyberpills.net/Falci/Curriculum/\")"
   ]
  },
  {
   "cell_type": "code",
   "execution_count": null,
   "metadata": {
    "collapsed": true
   },
   "outputs": [],
   "source": []
  }
 ],
 "metadata": {
  "kernelspec": {
   "display_name": "Python 3",
   "language": "python",
   "name": "python3"
  },
  "language_info": {
   "codemirror_mode": {
    "name": "ipython",
    "version": 3
   },
   "file_extension": ".py",
   "mimetype": "text/x-python",
   "name": "python",
   "nbconvert_exporter": "python",
   "pygments_lexer": "ipython3",
   "version": "3.6.2"
  }
 },
 "nbformat": 4,
 "nbformat_minor": 2
}
